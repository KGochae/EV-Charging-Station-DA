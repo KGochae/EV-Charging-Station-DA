{
  "nbformat": 4,
  "nbformat_minor": 0,
  "metadata": {
    "colab": {
      "provenance": [],
      "mount_file_id": "1JYj9Ey--UQiQwPY-2i10NzEPOwaUCTLR",
      "authorship_tag": "ABX9TyONrBN1OGt0gCcbFveRuYfd"
    },
    "kernelspec": {
      "name": "python3",
      "display_name": "Python 3"
    },
    "language_info": {
      "name": "python"
    }
  },
  "cells": [
    {
      "cell_type": "code",
      "source": [
        "!pip install xmltodict"
      ],
      "metadata": {
        "colab": {
          "base_uri": "https://localhost:8080/"
        },
        "id": "eYzqiA9otOVV",
        "outputId": "29f9c4ca-5876-4b32-84f8-1113550dea53"
      },
      "execution_count": null,
      "outputs": [
        {
          "output_type": "stream",
          "name": "stdout",
          "text": [
            "Collecting xmltodict\n",
            "  Downloading xmltodict-0.13.0-py2.py3-none-any.whl.metadata (7.7 kB)\n",
            "Downloading xmltodict-0.13.0-py2.py3-none-any.whl (10.0 kB)\n",
            "Installing collected packages: xmltodict\n",
            "Successfully installed xmltodict-0.13.0\n"
          ]
        }
      ]
    },
    {
      "cell_type": "markdown",
      "source": [
        "전기자동차 보급 활성화 및 전기자동차 사용자를 위한 전국 공공 및 민간 충전기 상태 실시간 제공\n",
        "\n",
        "* 충전소ID, 충전기ID, 상태정보"
      ],
      "metadata": {
        "id": "y4jgCWkYuvZM"
      }
    },
    {
      "cell_type": "code",
      "source": [
        "import requests\n",
        "import xmltodict\n",
        "import pandas as pd\n",
        "import requests\n",
        "import time\n",
        "\n",
        "import warnings\n",
        "\n",
        "# FutureWarning 무시 설정\n",
        "warnings.filterwarnings(\"ignore\", category=FutureWarning)\n",
        "pd.set_option('display.max_columns', None)\n",
        "pd.set_option('display.max_rows', None)"
      ],
      "metadata": {
        "id": "pAUCWEEG24TJ"
      },
      "execution_count": null,
      "outputs": []
    },
    {
      "cell_type": "code",
      "source": [
        "# 지역코드정보\n",
        "region_mapping = {\n",
        "    '11': '서울특별시',\n",
        "    '26': '부산광역시',\n",
        "    '27': '대구광역시',\n",
        "    '28': '인천광역시',\n",
        "    '29': '광주광역시',\n",
        "    '30': '대전광역시',\n",
        "    '31': '울산광역시',\n",
        "    '36': '세종특별자치시',\n",
        "    '41': '경기도',\n",
        "    '43': '충청북도',\n",
        "    '44': '충청남도',\n",
        "    '46': '전라남도',\n",
        "    '47': '경상북도',\n",
        "    '48': '경상남도',\n",
        "    '50': '제주특별자치도',\n",
        "    '51': '강원특별자치도',\n",
        "    '52': '전북특별자치도'\n",
        "}\n",
        "\n",
        "zcode = list(region_mapping.keys())"
      ],
      "metadata": {
        "id": "JQi5_79w5eb8"
      },
      "execution_count": null,
      "outputs": []
    },
    {
      "cell_type": "code",
      "execution_count": null,
      "metadata": {
        "id": "67MLww-IrZof"
      },
      "outputs": [],
      "source": [
        "# api_key\n",
        "key = '..'\n",
        "\n",
        "# 전기자동차 충전소 상태(실시간?)\n",
        "def get_charger_condtion(key,zcode):\n",
        "  url = 'http://apis.data.go.kr/B552584/EvCharger/getChargerStatus'\n",
        "  params ={'serviceKey' : key , 'pageNo' : '1', 'numOfRows' : '9999', 'period' : '10', 'zcode' : zcode ,'dataType' :'json'}\n",
        "  response = requests.get(url, params=params)\n",
        "  data = xmltodict.parse(response.content)\n",
        "  return data"
      ]
    },
    {
      "cell_type": "code",
      "source": [
        "condtion = get_charger_condtion(key,'11')\n",
        "condtion"
      ],
      "metadata": {
        "colab": {
          "base_uri": "https://localhost:8080/"
        },
        "id": "5-hFjRwt5MTV",
        "outputId": "8092fd93-943d-4460-a0f7-6631afa3c46e"
      },
      "execution_count": null,
      "outputs": [
        {
          "output_type": "execute_result",
          "data": {
            "text/plain": [
              "{'response': {'header': {'resultCode': '00',\n",
              "   'resultMsg': 'NORMAL SERVICE.',\n",
              "   'totalCount': '1716',\n",
              "   'pageNo': '2',\n",
              "   'numOfRows': '0'},\n",
              "  'body': {'items': None}}}"
            ]
          },
          "metadata": {},
          "execution_count": 85
        }
      ]
    },
    {
      "cell_type": "markdown",
      "source": [
        "전기자동차 보급 활성화 및 전기자동차 사용자를 위한 전국 공공 및 민간 충전기 운영현황 실시간 제공\n",
        "\n",
        "* 충전소명, 위치, 상태정보, 운영시간, 운영기관명,충전기 용량"
      ],
      "metadata": {
        "id": "rzvSjP7PuxCf"
      }
    },
    {
      "cell_type": "code",
      "source": [
        "# 충전소 위치\n",
        "def get_charger_info(key, zcode):\n",
        "    url = 'http://apis.data.go.kr/B552584/EvCharger/getChargerInfo'\n",
        "    params ={'serviceKey' : key , 'pageNo' : '1', 'numOfRows' : '9999', 'zcode' : zcode }\n",
        "    response = requests.get(url, params=params)\n",
        "    data = xmltodict.parse(response.content)\n",
        "    item = data['response']['body']['items']['item']\n",
        "    data= pd.json_normalize(item)\n",
        "\n",
        "    return data\n",
        "\n",
        "def fetch_all_data(key, zcodes):\n",
        "    all_data = []  # 데이터를 저장할 리스트\n",
        "\n",
        "    for zcode in zcodes:\n",
        "        print(f'Fetching data for zcode: {zcode}')\n",
        "        data = get_charger_info(key, zcode)\n",
        "        all_data.append(data)\n",
        "\n",
        "        # 10초 대기\n",
        "        time.sleep(10)\n",
        "\n",
        "    # 모든 데이터를 하나의 DataFrame으로 결합\n",
        "    combined_data = pd.concat(all_data, ignore_index=True)\n",
        "\n",
        "    return combined_data"
      ],
      "metadata": {
        "id": "cX4XzPCsxu-1"
      },
      "execution_count": null,
      "outputs": []
    },
    {
      "cell_type": "code",
      "source": [
        "data = fetch_all_data(key, zcode)\n"
      ],
      "metadata": {
        "colab": {
          "base_uri": "https://localhost:8080/"
        },
        "id": "1Zg5ToJ40fm8",
        "outputId": "ac75d7da-737f-4cd0-ac2a-41fccccf3bc5"
      },
      "execution_count": null,
      "outputs": [
        {
          "output_type": "stream",
          "name": "stdout",
          "text": [
            "Fetching data for zcode: 11\n",
            "Fetching data for zcode: 26\n",
            "Fetching data for zcode: 27\n",
            "Fetching data for zcode: 28\n",
            "Fetching data for zcode: 29\n",
            "Fetching data for zcode: 30\n",
            "Fetching data for zcode: 31\n",
            "Fetching data for zcode: 36\n",
            "Fetching data for zcode: 41\n",
            "Fetching data for zcode: 43\n",
            "Fetching data for zcode: 44\n",
            "Fetching data for zcode: 46\n",
            "Fetching data for zcode: 47\n",
            "Fetching data for zcode: 48\n",
            "Fetching data for zcode: 50\n",
            "Fetching data for zcode: 51\n",
            "Fetching data for zcode: 52\n"
          ]
        }
      ]
    },
    {
      "cell_type": "code",
      "source": [
        "# match_datas 저장\n",
        "csv_file_path = '/content/drive/MyDrive/Eelctric_data.csv'\n",
        "data.to_csv(csv_file_path, index=False)"
      ],
      "metadata": {
        "id": "-_xIdN3z4LWS"
      },
      "execution_count": null,
      "outputs": []
    },
    {
      "cell_type": "code",
      "source": [
        "data[(data['zcode'] == '41') & (data['addr'].str.contains('오산'))]\n"
      ],
      "metadata": {
        "id": "ktx2R7ye5qE3"
      },
      "execution_count": null,
      "outputs": []
    },
    {
      "cell_type": "markdown",
      "source": [
        "수집한 데이터로 뭘 할 수 있을까?\n",
        "\n",
        "*"
      ],
      "metadata": {
        "id": "ZSduEI6Y730q"
      }
    }
  ]
}